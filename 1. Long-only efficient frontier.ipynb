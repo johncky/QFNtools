{
 "cells": [
  {
   "cell_type": "code",
   "execution_count": 8,
   "id": "9466bbd0",
   "metadata": {},
   "outputs": [],
   "source": [
    "import pandas as pd \n",
    "import numpy as np\n",
    "from scipy.optimize import minimize \n",
    "#SLSQP, COBYLA allow constraints, therefore we use it mostly \n",
    "from functools import partial \n",
    "import matplotlib.pyplot as plt\n",
    "\n",
    "\n",
    "# ------------------------------------ parameter ------------------------------------ \n",
    "# (0, 1) means long-only, since weighting of each stock are bounded to be in [0, 1].\n",
    "# If you allow short selling, set lb=-1000, ub=1000. Although the Efficient frontier would be smooth\n",
    "# Because in real life you cannot take such high leverage\n",
    "lb = 0.0 #0.0 lower bound of the wrighting of each stock\n",
    "ub = 1.0 #1.0  upper bound of the wrighting of each stock\n",
    "\n",
    "# use weekly or monthly return for mean-variance analysis\n",
    "useWeekly = False\n",
    "alpha = 0.1\n",
    "riskMeasure = 'vol' #vol, VaR, CVaR\n",
    "\n",
    "\n",
    "## objective function = variance of portfolio, goal is to find the minimum variance portfolio for each specified target mean\n",
    "## The optimize function should be put in the first parameter\n",
    "## !! First param always the variable target parameter\n",
    "## !! params after it always in same order as input to function\n",
    "def MV(w, cov_mat):\n",
    "    return np.dot(w, np.dot(cov_mat,w.T))"
   ]
  },
  {
   "cell_type": "code",
   "execution_count": 9,
   "id": "938f7da0",
   "metadata": {},
   "outputs": [],
   "source": [
    "#read_data - existing portfolio\n",
    "data = pd.read_excel('biggestETFData.xlsx',engine = 'openpyxl',index_col = 0)\n",
    "data.index = pd.to_datetime(data.index)\n",
    "start = data.index[0]\n",
    "end = data.index[-1]\n",
    "monthend = pd.date_range(start,end,freq='BM')\n",
    "\n",
    "if useWeekly:\n",
    "    data_m = data[data.index.dayofweek ==4]\n",
    "else:\n",
    "    data_m = data[data.index.isin(monthend)]\n",
    "\n",
    "data_m_ret = (data_m / data_m.shift()-1).dropna(how = 'all')"
   ]
  },
  {
   "cell_type": "code",
   "execution_count": 10,
   "id": "e00eea33",
   "metadata": {},
   "outputs": [],
   "source": [
    "# n = number of stocks\n",
    "n = len(data_m_ret.columns)\n",
    "\n",
    "# instantiate volRange for storing variance\n",
    "mu_step = 0.0002\n",
    "muRange = np.arange(0.0055,0.013,mu_step)\n",
    "volRange = np.zeros(len(muRange))\n",
    "\n",
    "# mean return and covariance matrix\n",
    "R = data_m_ret.mean()\n",
    "omega = data_m_ret.cov()\n"
   ]
  },
  {
   "cell_type": "code",
   "execution_count": 11,
   "id": "295829a9",
   "metadata": {},
   "outputs": [],
   "source": [
    "# weighting of minimum variance portfolio with that mean return\n",
    "wgt = {}\n",
    "\n",
    "for i in range(len(muRange)):\n",
    "    mu = muRange[i]\n",
    "    wgt[mu] = []\n",
    "    \n",
    "    # initial weight = equal weight\n",
    "    x_0 = np.ones(n)/n \n",
    "    \n",
    "    # bounds for weighting of each stock in optimization\n",
    "    bndsa = ((lb,ub),)\n",
    "    for j in range(1,n):\n",
    "        bndsa = bndsa +((lb,ub),)\n",
    "    \n",
    "    # constraint 1 --> type=equality --> sum(weightings) = 1\n",
    "    # constraint 2 --> type=equality --> np.dot(w^T, R) = mu \n",
    "    consTR = ({'type':'eq','fun':lambda x:1-np.sum(x)},{'type':'eq','fun':lambda x: mu - np.dot(x,R)}) \n",
    "    \n",
    "    # args: a tuple of the fixed parameters needed to completely specify the function\n",
    "    # func: The objective function to be minimized.;  fun(x, *args) -> float\n",
    "    # x_0: initial guess. Array of real elements of size (n,), where ‘n’ is the number of independent variables.\n",
    "    # bounds: Bounds on variables. Sequence of (min, max) pairs for each element in x. None is used to specify no bound.\n",
    "    w = minimize(MV, x_0, method = 'SLSQP', constraints = consTR, bounds = bndsa, args = (omega))\n",
    "    \n",
    "    # w.x is solution array\n",
    "    # record SD of that optimal portfolio. i.e. minimal variance of portfolio with that average return\n",
    "    volRange[i] = np.dot(w.x,np.dot(omega,w.x.T))**0.5\n",
    "    \n",
    "    # record the weightings of that optimal portfolio\n",
    "    wgt[mu].extend(np.squeeze(w.x))\n",
    "\n",
    "# efficient frontier \n",
    "EF_df = pd.DataFrame.from_dict(wgt,orient = 'columns').T"
   ]
  },
  {
   "cell_type": "code",
   "execution_count": 12,
   "id": "d5e069c9",
   "metadata": {},
   "outputs": [],
   "source": [
    "# save result\n",
    "EF_df.to_excel('Efficient_Frontier.xlsx')\n",
    "EF_df.columns = data.columns"
   ]
  },
  {
   "cell_type": "code",
   "execution_count": 13,
   "id": "122c48f6",
   "metadata": {},
   "outputs": [
    {
     "data": {
      "image/png": "[encoded data removed]",
      "text/plain": [
       "<Figure size 432x288 with 1 Axes>"
      ]
     },
     "metadata": {
      "needs_background": "light"
     },
     "output_type": "display_data"
    }
   ],
   "source": [
    "# plot the efficient frontier\n",
    "# If weightings are bounded to be long-only [0,1], EF will not be smooth\n",
    "plot1=plt.figure(1)\n",
    "plt.plot(volRange,muRange,color=\"red\")\n",
    "plt.xlabel(\"Standard Deviation\",fontsize=8)\n",
    "plt.ylabel(\"Expected Return\",fontsize=8)\n",
    "plt.title(\"Efficient Frontier\",fontsize=12)\n",
    "\n",
    "# save fig\n",
    "plt.savefig('Efficient_Frontier(NoRiskFree).png')"
   ]
  },
  {
   "cell_type": "code",
   "execution_count": 14,
   "id": "1a625359",
   "metadata": {},
   "outputs": [
    {
     "data": {
      "image/png": "[encoded data removed]",
      "text/plain": [
       "<Figure size 432x288 with 1 Axes>"
      ]
     },
     "metadata": {
      "needs_background": "light"
     },
     "output_type": "display_data"
    }
   ],
   "source": [
    "# risk-free rate, same period as return\n",
    "rf=0.02/12\n",
    "rf_weighting = np.arange(0,1,0.1)\n",
    "\n",
    "mean_var_df = pd.DataFrame({'mean': muRange, 'sd': volRange})\n",
    "mean_var_df['slope'] = (mean_var_df['mean'] - rf) / mean_var_df['sd']\n",
    "tangent_portfolio = mean_var_df.loc[mean_var_df['slope'].argmax()]\n",
    "\n",
    "\n",
    "plot1=plt.figure(1)\n",
    "plt.plot(volRange,muRange,color=\"red\")\n",
    "plt.plot([(1-x) * tangent_portfolio['sd'] for x in rf_weighting],\n",
    "         [(1-x) * tangent_portfolio['mean'] + rf * x for x in rf_weighting],\n",
    "         color='blue')\n",
    "plt.xlim([min(mean_var_df['sd'])-mu_step*3, max(mean_var_df['sd'])])\n",
    "plt.xlabel(\"Standard Deviation\",fontsize=8)\n",
    "plt.ylabel(\"Expected Return\",fontsize=8)\n",
    "plt.title(\"Efficient Frontier\",fontsize=12)\n",
    "\n",
    "# save fig\n",
    "plt.savefig('Efficient_Frontier(RiskFree).png')"
   ]
  }
 ],
 "metadata": {
  "kernelspec": {
   "display_name": "Python 3",
   "language": "python",
   "name": "python3"
  },
  "language_info": {
   "codemirror_mode": {
    "name": "ipython",
    "version": 3
   },
   "file_extension": ".py",
   "mimetype": "text/x-python",
   "name": "python",
   "nbconvert_exporter": "python",
   "pygments_lexer": "ipython3",
   "version": "3.8.8"
  }
 },
 "nbformat": 4,
 "nbformat_minor": 5
}
